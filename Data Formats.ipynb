{
 "cells": [
  {
   "cell_type": "code",
   "execution_count": null,
   "id": "84843613",
   "metadata": {},
   "outputs": [],
   "source": []
  },
  {
   "cell_type": "code",
   "execution_count": 29,
   "id": "f6bfe041",
   "metadata": {},
   "outputs": [
    {
     "name": "stdout",
     "output_type": "stream",
     "text": [
      ">NM_001168970.1 Papio anubis huntingtin interacting protein K (HYPK), mRNA\n",
      "ATGCGGCGGCGTGGTGAGATAGATATGGCGACTGAGGGGGATGTGGAGCTGGAGTTAGAGACTGAGACCAGTGGACCAGAGCGGCCTCCCGAGAAGCCACGGAAGCATGACAGCGGTGCCGCGGACTTGGAGCGGGTCACCGACTATGCGGAGGAGAAGGAGATCCAGAGTTCCAATCTGGAGACGGCCATGTCTGTGATTGGAGACAGAAGGTCCCGGGAGCAGAAAGCCAAACAGGAGCGGGAGAAAGAACTGGCAAAAGTCACTATCAAGAAGGAAGATCTGGAGCTGATAATGACCGAGATGGAGATATCTCGAGCAGCAGCAGAACGCAGCTTGCGGGAACACATGGGCAACGTGGTAGAGGCGCTTATTGCCCTAACCAACTGA\n"
     ]
    }
   ],
   "source": [
    "from Bio import Entrez\n",
    "from Bio import SeqIO\n",
    "Entrez.email = \"your_name@your_mail_server.com\"\n",
    "with open(\"ids.txt\", \"r\") as file:\n",
    "    ids = file.readline().strip()\n",
    "ids = ids.replace(\" \", \", \")\n",
    "handle = Entrez.efetch(db=\"nucleotide\", id=[ids], rettype=\"fasta\")\n",
    "records = list (SeqIO.parse(handle, \"fasta\")) #we get the list of SeqIO objects in FASTA format\n",
    "min_length = float('inf')\n",
    "index = 0\n",
    "for i in range (len(records)):\n",
    "    if len(records[i].seq) < min_length:\n",
    "        min_length = len(records[i].seq)\n",
    "        index = i\n",
    "\n",
    "print(\">\", records[index].description, sep=\"\")\n",
    "print(records[index].seq)\n",
    "\n"
   ]
  },
  {
   "cell_type": "code",
   "execution_count": null,
   "id": "419105a8",
   "metadata": {},
   "outputs": [],
   "source": []
  },
  {
   "cell_type": "code",
   "execution_count": null,
   "id": "0ecbae13",
   "metadata": {},
   "outputs": [],
   "source": []
  }
 ],
 "metadata": {
  "kernelspec": {
   "display_name": "Python 3",
   "language": "python",
   "name": "python3"
  },
  "language_info": {
   "codemirror_mode": {
    "name": "ipython",
    "version": 3
   },
   "file_extension": ".py",
   "mimetype": "text/x-python",
   "name": "python",
   "nbconvert_exporter": "python",
   "pygments_lexer": "ipython3",
   "version": "3.8.8"
  }
 },
 "nbformat": 4,
 "nbformat_minor": 5
}
