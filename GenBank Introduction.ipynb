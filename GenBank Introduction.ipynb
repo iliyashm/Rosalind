{
 "cells": [
  {
   "cell_type": "code",
   "execution_count": 7,
   "id": "1e88f6fe",
   "metadata": {},
   "outputs": [
    {
     "name": "stdout",
     "output_type": "stream",
     "text": [
      "30\n"
     ]
    }
   ],
   "source": [
    "from Bio import Entrez\n",
    "\n",
    "Entrez.email = \"iliya.shmelev@gmail.com\"  # Always use your email address\n",
    "\n",
    "with open(\"database.txt\", \"r\") as file:\n",
    "    name = file.readline().strip()\n",
    "    date1 = file.readline().strip()\n",
    "    date2 = file.readline().strip()\n",
    "\n",
    "\n",
    "# Search for nucleotide entries for the genus \"Escherichia\" published between January 1, 2022 and February 12, 2023\n",
    "handle = Entrez.esearch(db=\"nucleotide\", term=\"{}[Organism] AND {}:{}[Publication Date]\".format(name, date1, date2), retmax=1000000)\n",
    "record = Entrez.read(handle)\n",
    "\n",
    "# Retrieve the number of entries found\n",
    "count = int(record[\"Count\"])\n",
    "print(count)\n"
   ]
  },
  {
   "cell_type": "code",
   "execution_count": null,
   "id": "c26b24bd",
   "metadata": {},
   "outputs": [],
   "source": []
  }
 ],
 "metadata": {
  "kernelspec": {
   "display_name": "Python 3",
   "language": "python",
   "name": "python3"
  },
  "language_info": {
   "codemirror_mode": {
    "name": "ipython",
    "version": 3
   },
   "file_extension": ".py",
   "mimetype": "text/x-python",
   "name": "python",
   "nbconvert_exporter": "python",
   "pygments_lexer": "ipython3",
   "version": "3.8.8"
  }
 },
 "nbformat": 4,
 "nbformat_minor": 5
}
