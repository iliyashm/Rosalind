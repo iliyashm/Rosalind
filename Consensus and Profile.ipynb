{
 "cells": [
  {
   "cell_type": "code",
   "execution_count": 59,
   "id": "0142b4ab",
   "metadata": {},
   "outputs": [
    {
     "name": "stdout",
     "output_type": "stream",
     "text": [
      "AGCCGGGGACATGCCTCAAATACAGCAGGAATCAGCCAACCTGGAAGGAATCACCCTCAGCCACCAACTGTAGGATCGTTGAGACAAGTAATCACATCACTACCCCCAGGCTAAAGAACAGTGGCCGCTTAGCATCACAAGACAGAGGTTGGACGGCCAAGCGCGTACGGGAAGAGTGGAGTAACCAAATGCCCGCTCCTATACTACCAAAGCCATTCCACGATCTACAATCCTCCAATAATCAATGGCTTACCGCGGACTAACTGGGCACTAGAATGGAGAGCGGCACAATTGCAGAGTTACCGCGGCATTAACAAGCAGTCTCGTCACACGATATGTGCCATACCGCTGTATAAAATCCGACGAACCATTATACTACATGATAGAAATGTGGACACAAGTCACCCCAAAAACGGGATCGCAGCAGTTTTCAACAAAGACACCTACAAAGCGCCGTCCGTATATGAGTCCCGACGGTAAAACGGAAAGCAGTTACTAAGCGCGCATATACAAATTCAAGGGTAGTACGTTTCTGTACTAGGATTGTCGCACATTAACATAACCTCCACTGGACGTCTATCCTTTAAAAACGAAGACTCGTGCACAGTAAGTTAGAAACACGATAGACACCTCTTTCACCCTCAATTCACTAAACGCCCCCTTTCGGAGAGGCGCGGGGCCTACGAGACCGCATACACAATCAAAAACACGACAGCTCCACAGCACGCACACTCAAAGTTATCTATAACCACATCAGGTGGCCAAAGTAAACCTGGCCAACCGGATCATGGTGTCAATTCATCCCTGGCATCAGGAACTTAACCGAGAACACTAAGGCTGATTAAAGTACCCCCAGGCAGACCATTAACGAGACAAGTGGCTAGCGAAGTGATTGACTCTAAAATGTCA\n",
      "A: 4 0 3 1 3 1 2 0 4 3 4 3 2 0 1 1 1 3 4 3 2 3 2 3 0 2 5 3 1 3 4 1 1 3 2 3 2 7 3 2 1 3 2 2 3 3 3 1 4 4 3 1 4 2 2 1 0 2 4 1 1 1 4 2 1 4 4 0 1 3 2 3 4 2 3 0 0 2 3 0 3 4 2 4 1 4 3 2 2 3 3 0 2 5 0 5 1 2 4 1 2 5 1 2 3 1 2 4 2 2 2 2 3 3 3 3 4 4 2 4 3 3 1 2 3 0 3 0 2 2 4 3 2 3 0 1 4 1 4 3 1 5 2 3 2 3 2 2 0 3 2 3 5 3 1 2 2 0 5 3 1 1 2 2 1 2 3 0 2 2 3 7 4 0 4 2 1 2 0 3 2 1 4 3 3 3 5 4 3 2 3 2 2 2 2 1 3 2 1 3 3 1 4 2 2 6 2 3 4 3 4 1 2 1 4 2 0 1 0 3 2 1 4 1 1 0 3 2 4 4 1 3 1 1 2 2 4 5 1 4 3 2 2 3 4 2 2 3 2 1 2 6 1 2 1 3 2 4 4 2 2 6 5 2 1 2 2 1 1 3 2 3 4 3 6 4 1 1 1 5 2 4 2 3 1 2 3 4 2 3 4 1 3 2 1 4 2 4 2 2 3 5 3 3 2 3 1 3 2 4 1 2 3 5 3 4 4 2 3 5 2 2 3 1 2 2 2 2 5 1 4 2 2 4 2 4 2 3 2 3 0 1 4 2 6 1 2 2 1 0 3 2 4 1 4 4 3 3 0 1 0 3 4 2 2 4 4 1 2 3 2 1 5 1 5 3 1 6 1 4 3 3 5 3 3 2 3 4 5 1 2 1 2 3 3 2 3 2 3 8 3 2 2 4 2 2 1 3 3 3 3 4 3 2 2 1 2 5 2 2 1 0 4 2 0 4 3 1 2 3 2 2 4 4 0 3 4 4 1 5 0 5 1 0 1 4 2 4 4 5 2 2 3 2 2 2 1 2 0 2 2 4 1 3 4 2 3 2 2 2 1 2 0 3 1 4 2 2 4 3 3 3 2 3 3 3 3 3 0 2 3 0 3 3 4 3 3 4 6 1 2 3 0 2 2 3 2 8 1 3 3 4 4 6 3 3 2 4 3 1 2 1 1 4 2 1 4 2 1 3 1 2 3 2 1 0 3 1 1 5 0 3 4 2 2 3 1 2 2 1 6 3 4 1 3 4 3 1 4 3 5 4 3 2 3 1 1 4 2 2 2 1 3 1 2 1 2 1 4 1 2 3 2 3 1 4 4 3 4 3 2 2 4 4 1 3 1 2 1 3 1 1 1 3 1 3 0 1 3 4 2 1 2 4 2 7 5 5 1 3 3 2 6 2 4 1 5 3 3 2 2 0 2 2 2 3 1 5 2 1 3 1 2 4 6 1 0 2 5 2 2 4 4 3 2 2 2 2 2 2 2 2 3 2 0 0 3 4 2 3 3 2 1 1 2 2 1 3 2 2 1 1 3 1 2 3 3 5 2 1 1 2 3 2 4 1 3 1 5 4 1 2 5 5 5 4 4 2 3 2 2 3 3 4 1 2 3 1 1 3 2 3 1 0 6 3 1 3 4 1 3 2 2 1 3 4 4 2 0 1 3 1 1 1 3 2 4 5 0 3 4 1 4 1 1 5 2 1 2 1 0 1 1 4 3 6 3 3 6 6 4 2 2 1 2 2 1 3 3 3 2 3 3 2 3 0 2 5 2 2 1 3 1 2 3 5 4 3 1 0 4 2 1 2 1 2 2 2 1 3 3 2 4 2 1 4 3 1 1 3 3 3 1 2 1 4 2 3 3 2 3 1 3 5 3 2 2 0 1 2 4 2 3 4 4 3 1 1 5 2 2 3 3 2 4 1 1 2 3 1 3 2 3 4 2 2 4 4 0 1 3 1 6 1 6 5 1 2 3 1 2 2 5 2 3 2 3 6 2 1 1 4 3 0 1 3 0 2 2 2 6 4 3 4 2 0 1 1 3\n",
      "C: 1 2 5 4 1 3 2 2 4 4 1 0 2 5 5 2 5 3 1 2 2 2 3 2 2 5 2 1 3 3 1 3 3 3 1 7 4 1 2 3 4 1 3 2 3 3 3 3 1 2 2 5 2 3 4 4 2 4 1 3 4 6 2 6 4 1 2 4 2 2 2 2 1 2 2 2 5 2 3 3 1 2 2 4 5 3 2 2 2 2 3 2 4 3 4 0 2 4 0 4 2 2 3 5 4 4 5 1 2 3 4 1 2 1 2 3 2 2 3 2 2 1 2 2 4 5 2 6 1 0 3 1 4 3 3 3 2 3 1 3 2 1 5 2 0 3 2 3 3 0 1 1 1 4 1 1 4 4 3 2 2 4 1 5 2 2 2 4 2 0 2 0 3 2 4 2 1 3 1 3 3 2 2 3 4 4 2 4 3 2 2 4 3 3 3 5 2 4 5 1 3 3 3 5 1 2 3 4 0 3 2 2 4 4 3 2 2 3 5 2 4 1 2 1 4 1 2 3 2 3 3 4 6 2 3 5 4 2 2 0 3 2 3 2 2 2 2 2 3 2 1 0 4 3 3 5 2 0 1 4 1 0 2 5 2 1 2 3 4 2 3 1 1 1 1 2 0 1 0 3 2 3 2 5 1 2 4 4 3 2 1 3 2 2 4 2 1 2 2 1 0 0 5 5 2 5 3 1 4 3 3 2 3 1 4 4 2 1 5 4 2 2 4 2 3 0 0 5 1 4 2 4 2 1 1 1 1 0 3 1 5 3 2 1 2 6 4 1 5 4 1 2 2 3 3 2 1 3 2 3 5 1 1 4 2 3 3 4 3 1 1 0 0 2 0 4 0 2 3 1 2 1 0 2 2 2 3 1 2 2 2 2 2 2 3 4 3 4 2 1 1 3 5 1 4 4 3 5 2 3 3 3 3 3 2 1 3 1 0 3 3 4 2 2 7 3 2 3 2 1 1 3 3 2 6 1 3 2 1 3 4 1 3 4 2 1 4 2 2 2 1 3 0 5 4 2 2 4 4 3 0 1 3 2 0 3 3 2 2 5 5 3 3 2 3 1 3 1 2 2 2 3 3 1 2 3 1 3 2 5 2 3 2 2 3 4 0 1 2 1 4 3 4 3 3 2 3 0 2 2 4 2 1 3 1 1 3 0 3 2 2 3 2 2 3 3 1 3 3 1 2 3 4 0 2 4 1 4 3 0 3 1 2 2 2 2 2 4 2 4 2 4 2 2 1 3 3 4 2 1 1 3 4 4 2 3 3 4 4 1 2 2 2 5 0 2 3 3 1 2 4 4 3 0 3 1 2 1 1 2 3 1 3 2 0 3 4 3 4 1 0 2 5 2 3 2 2 1 1 2 1 3 0 3 1 1 2 1 5 2 4 2 1 3 3 3 0 4 3 4 4 2 5 3 2 3 4 1 4 5 4 1 4 3 1 3 3 5 2 4 1 3 4 2 3 3 4 3 3 3 4 3 0 1 4 2 3 4 3 2 1 1 4 2 3 0 2 0 1 3 5 1 1 4 2 3 0 2 3 5 3 4 2 3 2 3 3 4 0 2 2 4 1 3 0 2 2 5 2 4 2 3 4 2 1 3 2 4 5 2 3 1 1 4 2 4 3 4 0 5 3 3 1 5 3 4 3 2 2 2 3 2 4 2 3 3 0 1 4 4 2 8 0 3 3 2 1 3 3 1 2 6 4 4 2 1 1 1 1 2 4 4 4 2 3 2 4 4 2 3 4 5 0 3 2 3 4 1 2 2 2 3 2 1 4 2 3 2 3 6 3 1 4 4 4 2 2 1 4 3 3 3 1 1 3 4 3 5 4 3 3 3 3 4 2 4 2 2 3 7 2 4 1 2 3 3 2 10 2 2 3 1 1 1 2 2 2 2 0 3 3 4 6 5 3 3 2 5 3 4 2 3 4 1 3 1 1 1 5 1 1 2 0 4 1 1 3 1 2 1 4 0 3 3 4 2 1 2 2 3 1 2 1 3 2 2 5 2 4 2 1 2 2 3 1 3 2 4 3\n",
      "G: 3 4 2 4 4 4 4 4 2 2 1 3 4 5 3 3 3 1 3 2 1 2 3 2 4 2 1 5 4 2 4 2 3 2 4 0 2 0 3 2 2 2 4 3 2 1 4 4 3 3 1 4 1 2 2 3 2 2 4 5 4 2 3 0 1 1 1 3 3 5 2 3 5 4 3 2 3 4 0 2 5 2 4 2 1 2 3 5 2 2 1 3 1 0 4 2 1 4 2 1 0 3 3 2 3 3 0 2 3 4 2 2 3 3 2 4 3 2 3 1 4 2 4 4 0 1 4 2 2 2 0 6 0 1 2 3 2 3 2 3 5 3 1 2 4 1 3 4 2 2 4 4 2 2 4 5 0 3 0 2 5 3 6 1 4 2 2 3 3 4 4 1 1 4 2 4 3 4 5 1 4 3 2 1 2 2 1 1 3 1 4 3 2 2 4 3 0 1 0 1 2 2 2 0 3 1 2 1 4 3 3 5 2 3 2 1 3 3 0 2 2 4 2 2 2 2 2 3 3 1 2 0 1 3 3 1 0 2 3 2 2 2 2 2 3 2 4 4 3 1 1 1 2 3 4 0 4 5 2 2 3 1 2 2 2 5 3 4 2 3 3 2 3 5 3 1 3 5 5 1 3 1 3 0 4 4 3 2 3 3 4 2 1 3 3 3 4 3 3 2 2 1 0 1 4 2 4 4 3 2 2 2 1 1 1 0 1 5 2 1 3 2 2 3 2 6 3 2 3 3 3 2 4 3 2 2 2 5 0 4 2 3 4 3 2 1 1 5 1 0 5 1 1 2 1 4 3 2 2 3 2 4 4 3 3 1 1 2 3 3 2 2 3 1 1 1 4 0 3 3 1 6 2 1 2 3 2 3 3 3 3 3 4 4 1 2 1 4 3 1 4 1 1 2 0 2 3 1 2 2 1 2 1 3 4 4 5 3 3 3 4 4 3 4 2 3 4 2 2 2 2 2 3 2 2 3 2 1 5 1 4 1 3 3 2 3 3 1 1 0 5 3 4 0 4 4 3 3 2 4 1 3 1 3 0 4 1 4 1 2 2 2 5 3 3 5 4 3 1 3 3 3 2 4 4 1 3 2 4 3 2 5 1 1 1 2 3 3 1 5 3 4 4 4 3 3 1 1 2 2 2 2 3 0 2 2 3 3 2 4 3 4 1 1 4 2 4 2 4 2 2 1 1 3 4 1 3 3 2 3 4 4 2 2 2 5 2 0 4 2 1 2 3 3 0 1 3 4 2 2 1 1 0 2 1 3 3 1 2 3 4 5 2 2 6 2 2 2 3 1 2 3 1 3 1 2 4 3 3 3 3 4 2 1 6 2 3 1 4 4 4 6 1 3 3 3 4 2 3 2 4 2 3 1 5 0 3 1 1 2 2 5 2 1 0 4 3 1 2 3 2 2 2 1 2 0 3 3 2 2 1 2 3 1 2 1 3 1 3 1 3 2 1 2 2 4 2 2 2 2 0 1 2 3 4 4 4 1 4 3 6 4 3 4 2 5 4 4 6 3 2 2 3 3 3 2 4 3 3 4 4 2 2 1 2 3 1 1 4 3 3 3 1 2 4 1 2 0 3 2 4 2 3 2 5 3 1 2 3 2 3 3 6 4 2 0 4 1 4 2 3 3 2 1 2 0 0 5 3 3 2 2 4 3 2 1 2 3 4 1 2 0 4 1 3 2 5 4 1 4 5 2 3 2 3 1 4 0 2 2 0 3 3 2 4 4 2 2 3 3 1 0 6 4 2 3 3 0 2 3 4 0 4 3 1 1 1 1 1 1 2 3 2 1 3 1 6 4 3 3 0 3 2 5 4 2 2 2 0 0 2 2 3 3 4 1 5 2 1 1 3 1 2 1 3 4 4 0 2 3 1 2 2 2 2 2 5 3 2 3 3 2 1 3 3 4 4 1 1 5 3 3 2 1 1 3 2 3 5 4 3 6 3 4 1 2 4 3 4 4 3 2 1 5 3 4 3 2 4 2 4 2 2 2 4 3 3 1 2 2 2 2 2 2 3 4 2 3 3\n",
      "T: 2 4 0 1 2 2 2 4 0 1 4 4 2 0 1 4 1 3 2 3 5 3 2 3 4 1 2 1 2 2 1 4 3 2 3 0 2 2 2 3 3 4 1 3 2 3 0 2 2 1 4 0 3 3 2 2 6 2 1 1 1 1 1 2 4 4 3 3 4 0 4 2 0 2 2 6 2 2 4 5 1 2 2 0 3 1 2 1 4 3 3 5 3 2 2 3 6 0 4 4 6 0 3 1 0 2 3 3 3 1 2 5 2 3 3 0 1 2 2 3 1 4 3 2 3 4 1 2 5 6 3 0 4 3 5 3 2 3 3 1 2 1 2 3 4 3 3 1 5 5 3 2 2 1 4 2 4 3 2 3 2 2 1 2 3 4 3 3 3 4 1 2 2 4 0 2 5 1 4 3 1 4 2 3 1 1 2 1 1 5 1 1 3 3 1 1 5 3 4 5 2 4 1 3 4 1 3 2 2 1 1 2 2 2 1 5 5 3 5 3 2 4 2 6 3 7 3 2 1 2 4 3 2 4 2 2 2 1 4 4 2 4 3 3 1 4 2 1 2 6 6 3 3 2 2 2 2 1 3 2 4 3 1 1 5 2 3 2 3 2 2 4 2 1 0 3 6 3 4 1 3 2 3 2 4 2 0 0 2 2 1 4 4 3 2 1 3 1 3 5 5 4 2 1 2 0 2 2 1 1 4 4 3 3 2 2 3 2 0 0 3 4 1 4 3 2 5 1 1 2 1 2 2 2 5 3 5 2 5 2 3 3 0 4 0 2 3 2 3 6 1 5 3 4 2 0 3 2 6 3 3 2 1 1 3 2 2 3 2 3 5 7 2 6 4 2 5 2 3 2 4 0 3 4 3 3 2 2 0 4 3 4 2 1 3 2 3 0 2 0 2 4 2 3 4 2 3 1 3 2 3 1 3 2 2 4 0 1 5 2 2 2 1 2 1 0 1 4 4 4 5 3 0 2 2 3 1 3 3 1 2 3 3 3 5 2 1 3 3 3 2 2 3 3 0 2 4 1 4 1 7 2 5 2 6 1 3 2 5 1 2 3 2 2 3 0 1 4 3 2 2 1 3 2 1 3 3 2 4 0 3 2 4 4 2 1 4 2 1 3 1 0 2 1 2 2 4 1 5 3 1 2 2 1 4 4 2 3 2 3 3 2 6 3 1 4 1 3 2 4 5 4 2 5 3 5 3 2 4 2 3 2 2 4 4 0 5 4 2 3 1 1 1 4 6 2 1 1 2 4 3 2 3 2 4 3 3 1 2 4 2 2 3 2 2 5 3 4 2 6 2 0 4 4 5 3 0 3 2 2 2 3 1 3 3 2 2 4 1 2 5 1 3 2 3 2 4 6 3 2 3 4 5 2 2 2 0 3 3 3 1 1 1 4 3 2 2 2 2 1 2 6 1 4 4 4 2 1 2 2 2 6 1 2 1 5 4 2 0 3 4 1 1 3 3 1 2 3 3 3 4 4 5 4 2 4 0 1 1 2 0 3 2 3 3 3 3 3 1 2 2 6 3 2 3 2 3 0 2 0 2 2 3 4 2 3 3 4 1 1 4 1 3 0 1 3 2 3 2 2 2 2 0 2 3 2 4 3 1 3 2 3 2 2 0 3 2 2 2 2 1 2 5 3 2 2 3 1 5 4 2 5 1 4 2 4 4 1 2 2 2 1 2 5 3 1 2 2 4 4 3 1 2 0 2 2 2 6 1 0 2 1 1 5 1 2 3 1 2 1 3 2 1 1 3 4 1 4 4 3 3 4 3 4 2 2 2 4 5 3 1 4 3 3 2 5 0 3 2 1 4 2 3 2 2 0 2 2 5 4 2 2 3 1 3 1 1 3 3 0 2 4 4 2 1 1 2 0 5 3 2 5 4 3 2 3 2 4 3 2 2 1 0 0 0 2 3 2 3 0 2 2 1 4 4 4 3 2 0 4 3 1 1 1 2 2 2 4 1 4 1 6 1 0 0 2 3 0 2 4 4 2 4 5 3 2 2 5 2 4 1 2 3 1 4 3 5 2 1\n"
     ]
    }
   ],
   "source": [
    "with open(\"Consensus.txt\", \"r\") as file:\n",
    "    matrix = []\n",
    "    string = \"\"\n",
    "    for line in file:\n",
    "        if not line.startswith(\">\"):\n",
    "            string += line.rstrip()\n",
    "        else:\n",
    "            if string != \"\":\n",
    "                matrix.append(list(string))\n",
    "            string = \"\"\n",
    "    if string != \"\":\n",
    "        matrix.append(list(string))\n",
    "    \n",
    "          \n",
    "def transpose(matrix):\n",
    "    return [list(x) for x in zip(*matrix)]\n",
    "\n",
    "matrix = transpose(matrix)\n",
    "A = []\n",
    "C = []\n",
    "G = []\n",
    "T = []\n",
    "\n",
    "for line in matrix:\n",
    "    A.append(line.count(\"A\"))\n",
    "    C.append(line.count(\"C\"))\n",
    "    G.append(line.count(\"G\"))\n",
    "    T.append(line.count(\"T\"))\n",
    "new_string = \"\"\n",
    "for i in range(len(A)):\n",
    "    if A[i] >= C[i] and A[i] >= G[i] and A[i] >= T[i]:\n",
    "        new_string += \"A\"\n",
    "    elif C[i] >= A[i] and C[i] >= G[i] and C[i] >= T[i]:\n",
    "        new_string += \"C\"\n",
    "    elif G[i] >= A[i] and G[i] >= C[i] and G[i] >= T[i]:\n",
    "        new_string += \"G\"\n",
    "    else:\n",
    "        new_string += \"T\"\n",
    "print(new_string)\n",
    "print(\"A:\", *A)\n",
    "print(\"C:\", *C)\n",
    "print(\"G:\", *G)\n",
    "print(\"T:\", *T)    "
   ]
  },
  {
   "cell_type": "code",
   "execution_count": null,
   "id": "7c2e4224",
   "metadata": {},
   "outputs": [],
   "source": []
  },
  {
   "cell_type": "code",
   "execution_count": null,
   "id": "2a883118",
   "metadata": {},
   "outputs": [],
   "source": []
  },
  {
   "cell_type": "code",
   "execution_count": null,
   "id": "102631f6",
   "metadata": {},
   "outputs": [],
   "source": []
  },
  {
   "cell_type": "code",
   "execution_count": null,
   "id": "5baa1d56",
   "metadata": {},
   "outputs": [],
   "source": []
  },
  {
   "cell_type": "code",
   "execution_count": null,
   "id": "4bdf2e5a",
   "metadata": {},
   "outputs": [],
   "source": []
  }
 ],
 "metadata": {
  "kernelspec": {
   "display_name": "Python 3",
   "language": "python",
   "name": "python3"
  },
  "language_info": {
   "codemirror_mode": {
    "name": "ipython",
    "version": 3
   },
   "file_extension": ".py",
   "mimetype": "text/x-python",
   "name": "python",
   "nbconvert_exporter": "python",
   "pygments_lexer": "ipython3",
   "version": "3.8.8"
  }
 },
 "nbformat": 4,
 "nbformat_minor": 5
}
