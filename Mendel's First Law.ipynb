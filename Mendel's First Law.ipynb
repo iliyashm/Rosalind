{
 "cells": [
  {
   "cell_type": "code",
   "execution_count": 4,
   "id": "7367798a",
   "metadata": {},
   "outputs": [
    {
     "data": {
      "text/plain": [
       "0.8236418511066398"
      ]
     },
     "execution_count": 4,
     "metadata": {},
     "output_type": "execute_result"
    }
   ],
   "source": [
    "from scipy.special import comb\n",
    "\n",
    "def calculateProbability(k, m, n):\n",
    "    totalPop = k + m + n \n",
    "    \n",
    "    totalCombos = comb(totalPop, 2)\n",
    "    \n",
    "    validCombos = comb(k, 2) + k*m + k*n + .5*m*n + .75*comb(m, 2)\n",
    "    probability = validCombos/totalCombos\n",
    "    return probability\n",
    "\n",
    "# Example Call: \n",
    "calculateProbability(28, 26, 17)"
   ]
  },
  {
   "cell_type": "code",
   "execution_count": null,
   "id": "af5e5fbd",
   "metadata": {},
   "outputs": [],
   "source": []
  }
 ],
 "metadata": {
  "kernelspec": {
   "display_name": "Python 3",
   "language": "python",
   "name": "python3"
  },
  "language_info": {
   "codemirror_mode": {
    "name": "ipython",
    "version": 3
   },
   "file_extension": ".py",
   "mimetype": "text/x-python",
   "name": "python",
   "nbconvert_exporter": "python",
   "pygments_lexer": "ipython3",
   "version": "3.8.8"
  }
 },
 "nbformat": 4,
 "nbformat_minor": 5
}
