{
 "cells": [
  {
   "cell_type": "code",
   "execution_count": 4,
   "id": "7c5cb80e",
   "metadata": {},
   "outputs": [
    {
     "name": "stdout",
     "output_type": "stream",
     "text": [
      "25 63 70 79 94 126 152 176 194 362 398 405 412 428 447 477 484 501 551 558 565 594 653 668 697 749 756 763 770 811 863 870 963\n"
     ]
    }
   ],
   "source": [
    "def find_substring(string, substring):\n",
    "    positions = []\n",
    "    start = 0\n",
    "    while start < len(string):\n",
    "        pos = string.find(substring, start)\n",
    "        if pos == -1:\n",
    "            break\n",
    "        positions.append(pos + 1)\n",
    "        start = pos + 1\n",
    "    return positions\n",
    "\n",
    "string = \"GCCTAGATATATAGATATTTGTTATAGATATTAGATATGTTTAGATATGGGTTGCCAGTCATTAGATATTAGATATTATAGATATTAGATATATAGATATTAGATATGCTAGATATGTAGATATATAGATATTAGATATCACCTAGATATGTAGATATTAATGATTAGATATTCCTAGATATTAGATATAGAATAGATATTAGATATAGTAGATATAACCCTAGATATAACTAGATATGGATGAAGGTCGTATAGATATCGAATAGATATCTTTTAGATATGTAGATATCGGACTTATAGATATGATAGATATTCCCTAGATATGTAGATATGGCGTCTAGATATTGGTAGATATCCCATTTAGATATTATTAGATATCATTAGATATTTAGATATTTAGATATTAGATATTAGATATTAGATATAATAGATATTAGATATAGTGGTAGATATTAGATATCAGCTATTAGATATAGTAGATATTAGATATTAGATATAGTTAGATATTAGATATCGGATCAACCCGGTAGATATCCAAGCCTAGATATGATAGATATTAGATATTAGATATTAGACTAGATATCAATCCAATGTAGATATTAGATATCAGAGGTAGATATCGTAGATATCCTAGATATACGTTAGATATCAATAGATATTAGATATATAGATATTAGATATCTTAGATATACATCTTAGATATTAGATATTCTAGATATCTTAGATATTTTAGATATCCTAGATATAGTAGATATTAGATATTAGATATTAGATATTAGATATCTTGATAGATATAGTTAGATATTTGTCTAGATATTAGATATCTAAATAGATATGAAAGATTAGATATCCTAGATATTTATAGATATTAGATATTAGATATCTTGATAGATATGGCCGCTAGATATGTGTAGATATATAGATATCCTGCCTCGGTCCTAGATATGTTAGATATGTGAACATAGATATTAGATATGAGTTG\"\n",
    "substring = \"TAGATATTA\"\n",
    "s = find_substring(string, substring)\n",
    "print(*s)"
   ]
  },
  {
   "cell_type": "code",
   "execution_count": null,
   "id": "87c48851",
   "metadata": {},
   "outputs": [],
   "source": []
  }
 ],
 "metadata": {
  "kernelspec": {
   "display_name": "Python 3",
   "language": "python",
   "name": "python3"
  },
  "language_info": {
   "codemirror_mode": {
    "name": "ipython",
    "version": 3
   },
   "file_extension": ".py",
   "mimetype": "text/x-python",
   "name": "python",
   "nbconvert_exporter": "python",
   "pygments_lexer": "ipython3",
   "version": "3.8.8"
  }
 },
 "nbformat": 4,
 "nbformat_minor": 5
}
