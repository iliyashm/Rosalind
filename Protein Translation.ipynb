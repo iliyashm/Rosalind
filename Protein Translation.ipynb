{
 "cells": [
  {
   "cell_type": "code",
   "execution_count": 48,
   "id": "ff2fdf03",
   "metadata": {},
   "outputs": [
    {
     "name": "stdout",
     "output_type": "stream",
     "text": [
      "21\n"
     ]
    }
   ],
   "source": [
    "from Bio.Seq import translate\n",
    "\n",
    "with open(\"coding_tables.txt\", \"r\") as file:\n",
    "    coding_dna = file.readline().rstrip()\n",
    "    RNA = file.readline().rstrip()\n",
    "#print(RNA)\n",
    "for i in range(1, 7):\n",
    "    if translate(coding_dna, table=i, stop_symbol=\"\") == RNA:\n",
    "        print(i)\n",
    "\n",
    "for i in range(9, 16):\n",
    "    if translate(coding_dna, table=i, stop_symbol=\"\") == RNA:\n",
    "        print(i)\n",
    "for i in range(21, 27):\n",
    "    if translate(coding_dna, table=i, stop_symbol=\"\") == RNA:\n",
    "        print(i)"
   ]
  },
  {
   "cell_type": "code",
   "execution_count": null,
   "id": "05ac5043",
   "metadata": {},
   "outputs": [],
   "source": []
  },
  {
   "cell_type": "code",
   "execution_count": null,
   "id": "a52b4f7c",
   "metadata": {},
   "outputs": [],
   "source": []
  }
 ],
 "metadata": {
  "kernelspec": {
   "display_name": "Python 3",
   "language": "python",
   "name": "python3"
  },
  "language_info": {
   "codemirror_mode": {
    "name": "ipython",
    "version": 3
   },
   "file_extension": ".py",
   "mimetype": "text/x-python",
   "name": "python",
   "nbconvert_exporter": "python",
   "pygments_lexer": "ipython3",
   "version": "3.8.8"
  }
 },
 "nbformat": 4,
 "nbformat_minor": 5
}
