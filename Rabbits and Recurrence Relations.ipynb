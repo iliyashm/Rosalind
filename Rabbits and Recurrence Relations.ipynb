{
 "cells": [
  {
   "cell_type": "code",
   "execution_count": 30,
   "id": "f7960155",
   "metadata": {},
   "outputs": [],
   "source": [
    "def fibonacci(n, k):\n",
    "    if n <= 0:\n",
    "        return 0\n",
    "    elif n == 1:\n",
    "        return 1\n",
    "    else:\n",
    "        new, old = 1, 1\n",
    "        for i in range(2, n):\n",
    "            temp = new\n",
    "            new = k * old + new\n",
    "            old = temp\n",
    "        return new"
   ]
  },
  {
   "cell_type": "code",
   "execution_count": 32,
   "id": "abe7a621",
   "metadata": {},
   "outputs": [
    {
     "data": {
      "text/plain": [
       "89478485"
      ]
     },
     "execution_count": 32,
     "metadata": {},
     "output_type": "execute_result"
    }
   ],
   "source": [
    "fibonacci(28, 2)"
   ]
  },
  {
   "cell_type": "code",
   "execution_count": null,
   "id": "102deee1",
   "metadata": {},
   "outputs": [],
   "source": []
  }
 ],
 "metadata": {
  "kernelspec": {
   "display_name": "Python 3",
   "language": "python",
   "name": "python3"
  },
  "language_info": {
   "codemirror_mode": {
    "name": "ipython",
    "version": 3
   },
   "file_extension": ".py",
   "mimetype": "text/x-python",
   "name": "python",
   "nbconvert_exporter": "python",
   "pygments_lexer": "ipython3",
   "version": "3.8.8"
  }
 },
 "nbformat": 4,
 "nbformat_minor": 5
}
