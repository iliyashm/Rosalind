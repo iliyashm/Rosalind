{
 "cells": [
  {
   "cell_type": "code",
   "execution_count": 6,
   "id": "8f70ff46",
   "metadata": {},
   "outputs": [],
   "source": [
    "def CG_percent(string):\n",
    "    CG = (string.count(\"C\") + string.count(\"G\"))/len(string)\n",
    "    return CG"
   ]
  },
  {
   "cell_type": "code",
   "execution_count": 13,
   "id": "6578a4a5",
   "metadata": {},
   "outputs": [
    {
     "name": "stdout",
     "output_type": "stream",
     "text": [
      "Rosalind_6320\n",
      "\n",
      "52.496954933008524\n"
     ]
    }
   ],
   "source": [
    "with open(\"test.txt\", \"r\") as file:\n",
    "    # Iterate over the lines in the file\n",
    "    temp_name = \"\"\n",
    "    temp_val = 0\n",
    "    string = \"\"\n",
    "    name = \"\"\n",
    "    val = 0\n",
    "    for line in file:\n",
    "        # Print each line\n",
    "        if line.startswith(\">\"):\n",
    "            if string != \"\":\n",
    "                temp_val = CG_percent(string) * 100\n",
    "                if temp_val > val:\n",
    "                    name = temp_name\n",
    "                    val = temp_val\n",
    "                string = \"\"\n",
    "            temp_name = line[1:]\n",
    "        else:\n",
    "            string += line.rstrip()\n",
    "print(name)\n",
    "print(val)\n",
    "        "
   ]
  },
  {
   "cell_type": "code",
   "execution_count": null,
   "id": "ce74cdc1",
   "metadata": {},
   "outputs": [],
   "source": []
  }
 ],
 "metadata": {
  "kernelspec": {
   "display_name": "Python 3",
   "language": "python",
   "name": "python3"
  },
  "language_info": {
   "codemirror_mode": {
    "name": "ipython",
    "version": 3
   },
   "file_extension": ".py",
   "mimetype": "text/x-python",
   "name": "python",
   "nbconvert_exporter": "python",
   "pygments_lexer": "ipython3",
   "version": "3.8.8"
  }
 },
 "nbformat": 4,
 "nbformat_minor": 5
}
