{
 "cells": [
  {
   "cell_type": "code",
   "execution_count": 1,
   "id": "04e29849",
   "metadata": {},
   "outputs": [
    {
     "name": "stdout",
     "output_type": "stream",
     "text": [
      "200 222 215 199\n"
     ]
    }
   ],
   "source": [
    "from collections import Counter\n",
    "\n",
    "with open(\"rosalind_dna (1).txt\", \"r\") as file:\n",
    "    content = file.read()\n",
    "    \n",
    "counter = Counter(content)\n",
    "print(counter['A'], counter['C'], counter['G'], counter['T'])"
   ]
  },
  {
   "cell_type": "code",
   "execution_count": null,
   "id": "10be6a5a",
   "metadata": {},
   "outputs": [],
   "source": []
  }
 ],
 "metadata": {
  "kernelspec": {
   "display_name": "Python 3",
   "language": "python",
   "name": "python3"
  },
  "language_info": {
   "codemirror_mode": {
    "name": "ipython",
    "version": 3
   },
   "file_extension": ".py",
   "mimetype": "text/x-python",
   "name": "python",
   "nbconvert_exporter": "python",
   "pygments_lexer": "ipython3",
   "version": "3.8.8"
  }
 },
 "nbformat": 4,
 "nbformat_minor": 5
}
